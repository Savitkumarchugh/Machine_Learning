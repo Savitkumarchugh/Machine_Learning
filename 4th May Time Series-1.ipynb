{
 "cells": [
  {
   "cell_type": "markdown",
   "id": "89b47bca-e4ee-4f1b-9d4b-a1ebbf208070",
   "metadata": {},
   "source": [
    "# Q1. What is a time series, and what are some common applications of time series analysis?"
   ]
  },
  {
   "cell_type": "markdown",
   "id": "28d15d70-36d9-4d68-b8fe-a3d7409d6677",
   "metadata": {
    "tags": []
   },
   "source": [
    "A time series is a sequence of data points collected at successive points in time, typically at equally spaced intervals. Time series data is characterized by its temporal ordering, and it can exhibit trends, seasonality, and other patterns that depend on time.\n",
    "\n",
    "Some common applications of time series analysis include:\n",
    "\n",
    "* Financial Analysis: Analyzing stock prices, currency exchange rates, or economic indicators over time to make predictions or inform investment decisions.\n",
    "\n",
    "* Sales and Demand Forecasting: Predicting future sales or demand for products and services based on historical sales data.\n",
    "\n",
    "* Weather Forecasting: Analyzing historical weather data to predict future weather patterns and make forecasts.\n",
    "\n",
    "* Predictive Maintenance: Monitoring the performance of machines or equipment over time to predict and prevent failures or maintenance issues.\n",
    "\n",
    "* Epidemiology: Studying the spread of diseases over time and predicting outbreaks.\n",
    "\n",
    "* Web Traffic Analysis: Analyzing website traffic data over time to identify patterns and trends.\n",
    "\n",
    "* Energy Consumption Analysis: Analyzing energy usage patterns to optimize consumption and reduce costs.\n",
    "\n",
    "* Environmental Monitoring: Studying environmental parameters like air quality, water levels, or temperature trends over time.\n",
    "\n",
    "Time series analysis techniques include methods like autoregression, moving averages, exponential smoothing, seasonal decomposition, and advanced models like ARIMA (AutoRegressive Integrated Moving Average), SARIMA (Seasonal ARIMA), and Prophet. These methods help extract meaningful insights, identify patterns, and make predictions from time series data."
   ]
  },
  {
   "cell_type": "markdown",
   "id": "8095d64c-2905-43e7-8d59-dd4c4c4f1d53",
   "metadata": {},
   "source": [
    "# Q2. What are some common time series patterns, and how can they be identified and interpreted?"
   ]
  },
  {
   "cell_type": "markdown",
   "id": "5b450461-70fe-4345-b2a7-5e22b6d4915a",
   "metadata": {
    "tags": []
   },
   "source": [
    "Common time series patterns include:\n",
    "\n",
    "* Trend: A long-term movement in the data that shows an overall increase or decrease over time. Trends can be upward (positive), downward (negative), or horizontal (flat).\n",
    "\n",
    "* Seasonality: Regular, repeating patterns in the data that occur at fixed intervals, such as daily, weekly, or yearly cycles. Seasonality is often associated with calendar effects or natural events.\n",
    "\n",
    "* Cyclic Patterns: Longer-term patterns that are not as regular as seasonality but occur at irregular intervals. These cycles are usually related to economic or business cycles and may not have a fixed duration.\n",
    "\n",
    "* Irregular Fluctuations: Random or unpredictable variations in the data that do not follow any discernible pattern.\n",
    "\n",
    "Identifying and interpreting these patterns involve various techniques, such as:\n",
    "\n",
    "* Visualization: Plotting the time series data to visually inspect trends, seasonality, and other patterns.\n",
    "\n",
    "* Decomposition: Separating the time series into its underlying components (trend, seasonality, and residuals) using techniques like seasonal decomposition of time series (STL) or moving averages.\n",
    "\n",
    "* Autocorrelation: Calculating autocorrelation and partial autocorrelation to identify patterns of correlation between observations at different lags.\n",
    "\n",
    "* Statistical Tests: Conducting statistical tests like the Augmented Dickey-Fuller (ADF) test to check for the presence of trends and seasonality.\n",
    "\n",
    "* Fourier Analysis: Using Fourier transforms to analyze frequency components in the data and detect seasonality.\n",
    "\n",
    "Interpreting the identified patterns helps in understanding the behavior of the time series and can inform decision-making and forecasting processes. For example, recognizing a strong upward trend may indicate growth in a business or economy, while seasonality can help optimize inventory management based on demand patterns. Identifying irregular fluctuations may highlight anomalies or unexpected events that require investigation."
   ]
  },
  {
   "cell_type": "markdown",
   "id": "f419745a-4c59-4b5b-ad9b-cdaf52fb5091",
   "metadata": {
    "tags": []
   },
   "source": [
    "# Q3. How can time series data be preprocessed before applying analysis techniques?"
   ]
  },
  {
   "cell_type": "markdown",
   "id": "e005f504-3d64-4764-84f3-26d0da933e9c",
   "metadata": {
    "tags": []
   },
   "source": [
    "Before applying analysis techniques to time series data, it is essential to preprocess the data to ensure its quality and suitability for analysis. Some common preprocessing steps for time series data include:\n",
    "\n",
    "* Handling Missing Values: Check for and handle missing data points in the time series. Missing values can be interpolated, forward-filled, or backward-filled based on the nature of the data and the context.\n",
    "\n",
    "* Resampling: Adjust the frequency of the time series data if needed. This can involve upsampling (increasing frequency) or downsampling (decreasing frequency) to match the desired time resolution.\n",
    "\n",
    "* Smoothing: Apply smoothing techniques like moving averages or exponential smoothing to remove noise and highlight underlying patterns.\n",
    "\n",
    "* Outlier Detection: Identify and handle outliers in the data, which can distort analysis results. Outliers can be removed or imputed based on the context of the analysis.\n",
    "\n",
    "* Detrending: Remove trend components from the data to isolate seasonality and other patterns, or add trend components to stabilize the series.\n",
    "\n",
    "* Seasonal Adjustment: Adjust for seasonal effects in the data to focus on underlying trends or irregular fluctuations.\n",
    "\n",
    "* Normalization: Scale the data to a common range or mean to facilitate comparisons between different time series.\n",
    "\n",
    "* Feature Engineering: Create additional features or lagged variables to capture lead-lag relationships or past information that might influence the current observation.\n",
    "\n",
    "* Differencing: Take differences between consecutive data points to transform a non-stationary time series into a stationary one.\n",
    "\n",
    "* Handling Non-Uniform Time Intervals: If the time series has irregular time intervals, it may need to be transformed into a regular time series or handled using appropriate techniques for irregular time series analysis.\n",
    "\n",
    "The specific preprocessing steps will depend on the nature of the time series data and the objectives of the analysis. Proper preprocessing helps improve the quality of the results and ensures that the data is ready for effective analysis and modeling."
   ]
  },
  {
   "cell_type": "markdown",
   "id": "564af6b7-faad-4c2a-ae93-77f32e85ff57",
   "metadata": {},
   "source": [
    "# Q4. How can time series forecasting be used in business decision-making, and what are some common challenges and limitations?"
   ]
  },
  {
   "cell_type": "markdown",
   "id": "52953138-ca24-4a48-a54a-9c23bcab31aa",
   "metadata": {
    "tags": []
   },
   "source": [
    "Time series forecasting plays a crucial role in business decision-making across various industries. Some common applications include:\n",
    "\n",
    "* Demand Forecasting: Businesses can use time series forecasting to predict future demand for their products or services, helping with inventory management and supply chain optimization.\n",
    "\n",
    "* Financial Forecasting: Time series analysis can be used to forecast financial metrics like sales, revenue, expenses, and cash flow, aiding in budgeting and financial planning.\n",
    "\n",
    "* Resource Planning: Time series forecasting can help businesses plan for resource allocation, workforce scheduling, and capacity planning based on predicted future trends.\n",
    "\n",
    "* Inventory Management: By forecasting demand and sales, businesses can optimize inventory levels, reducing costs and minimizing stockouts.\n",
    "\n",
    "* Sales and Marketing: Time series forecasting can aid in predicting sales and marketing campaign performance, allowing businesses to allocate resources effectively.\n",
    "\n",
    "* Energy and Utilities: Time series analysis can be used in predicting energy consumption and optimizing energy production, contributing to energy efficiency.\n",
    "\n",
    "Challenges and Limitations:\n",
    "\n",
    "* Noise and Outliers: Time series data can be noisy, containing outliers that may distort the forecasting model's accuracy.\n",
    "\n",
    "* Seasonality and Cyclic Patterns: Identifying and properly handling seasonality and cyclic patterns can be challenging.\n",
    "\n",
    "* Short-Term vs. Long-Term Forecasting: Different forecasting methods may be required for short-term and long-term predictions, each with its own set of challenges.\n",
    "\n",
    "* Data Quality and Missing Values: Accurate forecasting depends on the quality of the data, and missing values can pose challenges.\n",
    "\n",
    "* Changing Trends: External factors, such as changes in market conditions or unexpected events, can significantly impact time series data, making long-term predictions challenging.\n",
    "\n",
    "* Overfitting: Overfitting to historical data can result in poor generalization to future data.\n",
    "\n",
    "* Complexity of Models: Sophisticated forecasting models may require significant computational resources and expertise to develop and maintain.\n",
    "\n",
    "* Interpretability: Some advanced forecasting models may lack interpretability, making it difficult to explain the factors driving predictions.\n",
    "\n",
    "Despite these challenges, time series forecasting remains a valuable tool for businesses, and advances in machine learning and data analytics continue to address these limitations and improve forecasting accuracy and applicability."
   ]
  },
  {
   "cell_type": "markdown",
   "id": "c06e44c6-7975-4f6a-9cd3-01c4462fd005",
   "metadata": {},
   "source": [
    "# Q5. What is ARIMA modelling, and how can it be used to forecast time series data?"
   ]
  },
  {
   "cell_type": "markdown",
   "id": "324b63d7-4b4e-4ded-a470-ca2989d69838",
   "metadata": {
    "tags": []
   },
   "source": [
    "ARIMA (AutoRegressive Integrated Moving Average) modeling is a widely used time series analysis method for forecasting data. It is a combination of three components: AutoRegressive (AR), Integrated (I), and Moving Average (MA).\n",
    "\n",
    "* AutoRegressive (AR) component: AR refers to the correlation between a current data point and its past values. ARIMA uses the past observations to predict future values based on a linear regression of the data on its own past values.\n",
    "\n",
    "* Integrated (I) component: I represents the differencing of the time series data to make it stationary. Stationary data has a constant mean and variance over time, making it easier to model. If a time series is not stationary, it may exhibit trends or seasonality, which can make forecasting challenging.\n",
    "\n",
    "* Moving Average (MA) component: MA is used to model the correlation between a current data point and the residual errors from past observations. It helps capture short-term dependencies in the data.\n",
    "\n",
    "ARIMA models are denoted by the parameters (p, d, q), where:\n",
    "\n",
    "* p represents the number of AutoRegressive terms.\n",
    "\n",
    "* d represents the degree of differencing required to make the data stationary.\n",
    "\n",
    "* q represents the number of Moving Average terms.\n",
    "\n",
    "Steps for using ARIMA for time series forecasting:\n",
    "\n",
    "* Data Preparation: Ensure the time series data is in a format suitable for ARIMA modeling and check for missing values.\n",
    "\n",
    "* Stationarity: Check if the data is stationary or perform differencing to make it stationary. If the data already appears to be stationary, d = 0.\n",
    "\n",
    "* Model Selection: Determine the optimal values of p, d, and q by analyzing the autocorrelation and partial autocorrelation plots. This step involves identifying the order of differencing (d), AR order (p), and MA order (q) that best fits the data.\n",
    "\n",
    "* Model Fitting: Fit the ARIMA model to the data using the identified parameters.\n",
    "\n",
    "* Model Validation: Validate the ARIMA model using techniques such as out-of-sample testing or cross-validation.\n",
    "\n",
    "* Forecasting: Once the model is validated, use it to forecast future values of the time series.\n",
    "\n",
    "ARIMA models are effective for forecasting time series data that exhibit linear trends and dependencies. However, they may not be suitable for complex data with non-linear patterns or irregular seasonality. In such cases, other advanced forecasting techniques, like seasonal ARIMA (SARIMA) or machine learning-based models, may be more appropriate."
   ]
  },
  {
   "cell_type": "markdown",
   "id": "598df65f-1c09-4447-9d24-0b03491b5f2b",
   "metadata": {},
   "source": [
    "# Q6. How do Autocorrelation Function (ACF) and Partial Autocorrelation Function (PACF) plots help in identifying the order of ARIMA models?"
   ]
  },
  {
   "cell_type": "markdown",
   "id": "e14e4417-fbc0-48fa-a10f-8b635b86d5de",
   "metadata": {
    "tags": []
   },
   "source": [
    "Autocorrelation Function (ACF) and Partial Autocorrelation Function (PACF) plots are essential tools in identifying the order of ARIMA models. These plots help determine the appropriate values of p (AR order) and q (MA order) for the ARIMA model.\n",
    "\n",
    "## Autocorrelation Function (ACF) Plot:\n",
    "\n",
    "The ACF plot shows the correlation between a time series and its lagged values. It helps identify the order of the Moving Average (MA) component in the ARIMA model. In the ACF plot, the y-axis represents the correlation coefficient, and the x-axis represents the lag or time shift.\n",
    "\n",
    "Interpretation:\n",
    "\n",
    "* The ACF plot shows a significant spike at lag k if the time series is correlated with its kth lag.\n",
    "\n",
    "* A significant spike at a specific lag suggests that the data may depend on the past values up to that lag.\n",
    "\n",
    "## Partial Autocorrelation Function (PACF) Plot:\n",
    "\n",
    "The PACF plot shows the correlation between a time series and its lagged values while controlling for the effects of previous lags. It helps identify the order of the AutoRegressive (AR) component in the ARIMA model. Like the ACF plot, the PACF plot has the correlation coefficient on the y-axis and the lag on the x-axis.\n",
    "\n",
    "Interpretation:\n",
    "\n",
    "*The PACF plot shows a significant spike at lag k if there is a direct correlation between the time series and its kth lag, after removing the effects of lags 1 to k-1.\n",
    "\n",
    "*A significant spike at a specific lag suggests that the data may depend on its past values up to that lag.\n",
    "\n",
    "Identifying the Order of ARIMA Models:\n",
    "\n",
    "* AR Order (p): Look at the PACF plot and identify the last lag where the spike is above the significance threshold (dashed lines). This lag value (p) is the AR order.\n",
    "\n",
    "* MA Order (q): Look at the ACF plot and identify the last lag where the spike is above the significance threshold (dashed lines). This lag value (q) is the MA order.\n",
    "\n",
    "* Integrated Order (d): If the original time series is not stationary, you need to apply differencing to make it stationary. The minimum differencing required to make the series stationary is the integrated order (d).\n",
    "\n",
    "By analyzing the ACF and PACF plots, you can determine the appropriate values of p, d, and q for the ARIMA model, which helps in forecasting future values of the time series data accurately."
   ]
  },
  {
   "cell_type": "markdown",
   "id": "d39cdf2a-e771-47cf-a988-0669350f5ad1",
   "metadata": {},
   "source": [
    "# Q7. What are the assumptions of ARIMA models, and how can they be tested for in practice?"
   ]
  },
  {
   "cell_type": "markdown",
   "id": "66ae5198-210f-45cd-9b8a-2b9e7f5ac84c",
   "metadata": {
    "tags": []
   },
   "source": [
    "The ARIMA (AutoRegressive Integrated Moving Average) models have certain assumptions that need to be satisfied for accurate and reliable forecasting. These assumptions include:\n",
    "\n",
    "* Stationarity: ARIMA models assume that the time series data is stationary, which means that the statistical properties of the series do not change over time. Stationarity is crucial because it simplifies the modeling process and ensures that the model is capturing the underlying patterns correctly.\n",
    "\n",
    "* Independence: ARIMA assumes that the observations in the time series are independent of each other. There should be no autocorrelation, meaning that the correlation between the current observation and previous observations should be close to zero.\n",
    "\n",
    "* Constant Variance: The variance of the time series data should be constant over time. This assumption is related to stationarity, as non-constant variance could indicate non-stationarity.\n",
    "\n",
    "Testing Assumptions:\n",
    "\n",
    "To test the assumptions of ARIMA models in practice, various techniques can be used:\n",
    "\n",
    "* Visual Inspection: Plotting the time series data and examining it visually can provide insights into stationarity, trends, and seasonality.\n",
    "\n",
    "* Augmented Dickey-Fuller Test: This statistical test is used to check for stationarity in the time series. It tests the null hypothesis that the series has a unit root (non-stationary). If the p-value is less than a chosen significance level (e.g., 0.05), the null hypothesis is rejected, indicating that the series is stationary.\n",
    "\n",
    "* Autocorrelation Function (ACF) and Partial Autocorrelation Function (PACF) Plots: These plots can be used to detect the presence of autocorrelation in the time series, which violates the independence assumption.\n",
    "\n",
    "* Residual Analysis: After fitting the ARIMA model, examining the residuals (the differences between the actual values and the predicted values) can help assess whether the model adequately captures the underlying patterns and meets the assumptions.\n",
    "\n",
    "* Variance Tests: Tests like the Breusch-Pagan test or the White test can be used to check for constant variance in the residuals.\n",
    "\n",
    "If the assumptions are not met, the data may need to be preprocessed (e.g., differencing for stationarity) or other modeling techniques may need to be considered (e.g., Seasonal ARIMA or SARIMA for seasonality). It's essential to validate the assumptions to ensure the ARIMA model provides accurate and meaningful forecasts."
   ]
  },
  {
   "cell_type": "markdown",
   "id": "0232ed32-ca6c-45ea-b5fd-b8a3bedb8676",
   "metadata": {},
   "source": [
    "# Q8. Suppose you have monthly sales data for a retail store for the past three years. Which type of time series model would you recommend for forecasting future sales, and why?"
   ]
  },
  {
   "cell_type": "markdown",
   "id": "19104107-1796-4a0b-897b-c8e9bd03cd1c",
   "metadata": {
    "tags": []
   },
   "source": [
    "For monthly sales data for a retail store, I would recommend considering the Seasonal Autoregressive Integrated Moving Average (SARIMA) model for forecasting future sales. SARIMA is an extension of the ARIMA model that includes additional terms to account for seasonal patterns in the data.\n",
    "\n",
    "Reasons for Recommending SARIMA:\n",
    "\n",
    "* Seasonality: Monthly sales data often exhibits seasonality, where patterns repeat over fixed periods (e.g., every 12 months). SARIMA can effectively capture these seasonal patterns using seasonal differencing and seasonal autoregressive (SAR) and seasonal moving average (SMA) terms.\n",
    "\n",
    "* Flexibility: SARIMA models are quite flexible and can handle different types of seasonal patterns, whether they are additive (e.g., sales increase by a constant amount each month during a particular season) or multiplicative (e.g., sales increase by a percentage each month during a particular season).\n",
    "\n",
    "* Trend and Seasonal Integration: SARIMA can handle non-stationary data by including differencing terms to make the data stationary. This is crucial as the stationary data is a requirement for the ARIMA family of models.\n",
    "\n",
    "* Historical Patterns: By incorporating information from the past three years, SARIMA can leverage the historical patterns and dependencies to make accurate forecasts.\n",
    "\n",
    "* Seasonal Forecasting: SARIMA is specifically designed for time series data with seasonal patterns, making it well-suited for forecasting retail sales data with monthly seasonality.\n",
    "\n",
    "* Widely Used: SARIMA is a widely used and well-established time series forecasting technique, supported by various software packages and libraries, including Python's statsmodels and R's forecast.\n",
    "\n",
    "Before fitting the SARIMA model, it's essential to examine the data for stationarity, identify the appropriate order of differencing, and select the optimal parameters for the ARIMA and seasonal components using techniques like ACF, PACF plots, and model evaluation criteria (e.g., AIC, BIC). Additionally, it is good practice to perform model validation and assess the accuracy of the forecasts using a hold-out validation set or cross-validation techniques."
   ]
  },
  {
   "cell_type": "markdown",
   "id": "5d53a9ad-2579-4894-8831-a5798ddf2233",
   "metadata": {},
   "source": [
    "# Q9. What are some of the limitations of time series analysis? Provide an example of a scenario where the limitations of time series analysis may be particularly relevant."
   ]
  },
  {
   "cell_type": "markdown",
   "id": "24d056bb-e3db-42b5-9bb5-8a93c0f077f0",
   "metadata": {
    "tags": []
   },
   "source": [
    "Some of the limitations of time series analysis include:\n",
    "\n",
    "* Limited Historical Data: Time series analysis relies on historical data to make forecasts or detect patterns. If the historical data is limited or too short, it can affect the accuracy and reliability of the forecasts.\n",
    "\n",
    "* Data Quality and Missing Values: Time series data can be affected by data quality issues and missing values, which can introduce biases and uncertainties in the analysis.\n",
    "\n",
    "* Non-Stationarity: Many time series analysis techniques assume stationarity, where the statistical properties of the data do not change over time. However, real-world data often exhibits non-stationary behavior, such as trends, seasonality, or irregular fluctuations, which may require additional pre-processing steps.\n",
    "\n",
    "* Outliers and Anomalies: Time series data can be sensitive to outliers and anomalies, which can lead to incorrect forecasts or analysis if not properly addressed.\n",
    "\n",
    "* Seasonality and Cyclic Patterns: Detecting and modeling complex seasonality and cyclic patterns can be challenging, especially when the periodicity is not obvious or changes over time.\n",
    "\n",
    "* Forecasting Uncertainty: Time series forecasts inherently involve uncertainty, and accurately quantifying this uncertainty can be difficult, especially for longer-term forecasts.\n",
    "\n",
    "Example Scenario:\n",
    "\n",
    "Let's consider the scenario of predicting daily sales for a newly launched product at a retail store. The store has only a few weeks of historical sales data for the product, making it challenging to build reliable time series models. With limited data, it becomes difficult to capture seasonality, trends, or other underlying patterns accurately.\n",
    "\n",
    "Additionally, if the product's sales exhibit highly irregular or volatile behavior due to external factors (e.g., sudden changes in demand, unexpected events), traditional time series models may struggle to adapt to such changes. In this situation, the limitations of time series analysis become more evident, and alternative approaches like machine learning methods or incorporating external variables may be more appropriate to improve the forecasting accuracy."
   ]
  },
  {
   "cell_type": "markdown",
   "id": "813ba721-c1a6-400b-8e32-ab35b85ca351",
   "metadata": {},
   "source": [
    "# Q10. Explain the difference between a stationary and non-stationary time series. How does the stationarity of a time series affect the choice of forecasting model?"
   ]
  },
  {
   "cell_type": "markdown",
   "id": "41223bd7-0989-479b-b517-f786ad8b7ed7",
   "metadata": {
    "tags": []
   },
   "source": [
    "A stationary time series is one where the statistical properties of the data, such as the mean, variance, and autocorrelation, remain constant over time. In other words, the time series does not exhibit any trends, seasonal patterns, or other systematic changes. On the other hand, a non-stationary time series shows significant fluctuations, trends, or seasonality, making its statistical properties vary over time.\n",
    "\n",
    "The stationarity of a time series is crucial in choosing an appropriate forecasting model:\n",
    "\n",
    "* Stationary Time Series: If a time series is stationary, traditional forecasting models like ARIMA (AutoRegressive Integrated Moving Average) can be effective. ARIMA assumes stationarity and can model the autocorrelation and seasonal patterns well. By differencing the data to remove trends or seasonality, ARIMA can be applied to convert a non-stationary time series into a stationary one.\n",
    "\n",
    "* Non-Stationary Time Series: For non-stationary time series, ARIMA models might not be suitable. Instead, techniques like Seasonal ARIMA (SARIMA) or other advanced forecasting models, including machine learning-based methods, may be necessary. Additionally, transformation techniques, such as logarithmic or Box-Cox transformations, can help stabilize the variance in non-stationary series before applying the models.\n",
    "\n",
    "In summary, the stationarity of a time series dictates the type of forecasting models that can be employed effectively. For stationary series, traditional ARIMA-based models are appropriate, while non-stationary series may require more sophisticated techniques to account for trends and seasonality. The identification of stationarity is a crucial step in time series analysis and forecasting to ensure the choice of the right model for accurate predictions."
   ]
  }
 ],
 "metadata": {
  "kernelspec": {
   "display_name": "Python 3 (ipykernel)",
   "language": "python",
   "name": "python3"
  },
  "language_info": {
   "codemirror_mode": {
    "name": "ipython",
    "version": 3
   },
   "file_extension": ".py",
   "mimetype": "text/x-python",
   "name": "python",
   "nbconvert_exporter": "python",
   "pygments_lexer": "ipython3",
   "version": "3.10.8"
  }
 },
 "nbformat": 4,
 "nbformat_minor": 5
}
