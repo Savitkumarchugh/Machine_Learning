{
 "cells": [
  {
   "cell_type": "markdown",
   "id": "fff2b961-9fc5-4ac0-b244-a8ec1c7027aa",
   "metadata": {},
   "source": [
    "# Q1. What is Min-Max scaling, and how is it used in data preprocessing? Provide an example to illustrate its application."
   ]
  },
  {
   "cell_type": "markdown",
   "id": "8ec2dbd8-8de4-433f-ad8b-20430c824d83",
   "metadata": {},
   "source": [
    "Min-max scaling, also known as normalization, is a data preprocessing technique that transforms the feature values to a range between 0 and 1. It is a type of linear scaling that preserves the relative distances between data points.\n",
    "\n",
    "To perform min-max scaling, we first find the minimum and maximum values of the feature, and then apply the following formula to each value:"
   ]
  },
  {
   "cell_type": "markdown",
   "id": "f1caed76-292f-44c6-8207-cba3b16b48f8",
   "metadata": {},
   "source": [
    "X_normalized = (X - X_min) / (X_max - X_min)"
   ]
  },
  {
   "cell_type": "markdown",
   "id": "f616d909-7ce9-4e48-9748-ab495830490d",
   "metadata": {},
   "source": [
    "where X is the original value, X_min is the minimum value, and X_max is the maximum value. The resulting values will be between 0 and 1, with 0 corresponding to the minimum value and 1 corresponding to the maximum value.\n",
    "\n",
    "For example, let's say we have a dataset containing the age and income of individuals, with age ranging from 25 to 65 and income ranging from $20,000 to $80,000. To apply min-max scaling to the income feature, we would first find the minimum and maximum values:"
   ]
  },
  {
   "cell_type": "markdown",
   "id": "aa805028-70ce-41d0-a00f-aade50f7f4ab",
   "metadata": {},
   "source": [
    "X_min = 20000\n",
    "X_max = 80000"
   ]
  },
  {
   "cell_type": "markdown",
   "id": "f76fc4b6-ced5-4d66-b963-d6076b34bd65",
   "metadata": {},
   "source": [
    "Then, we would apply the formula to each value:"
   ]
  },
  {
   "cell_type": "markdown",
   "id": "293ade64-43df-4bb9-a911-bdad01ea6c22",
   "metadata": {},
   "source": [
    "$20,000 => (20000 - 20000) / (80000 - 20000) = 0\n",
    "$30,000 => (30000 - 20000) / (80000 - 20000) = 0.125\n",
    "$50,000 => (50000 - 20000) / (80000 - 20000) = 0.5\n",
    "$80,000 => (80000 - 20000) / (80000 - 20000) = 1"
   ]
  },
  {
   "cell_type": "markdown",
   "id": "4f050f07-8233-4cfd-8aa6-a01987895db0",
   "metadata": {},
   "source": [
    "The resulting values are now between 0 and 1, and can be used for further analysis or modeling."
   ]
  },
  {
   "cell_type": "markdown",
   "id": "037469ee-d9fe-42c4-9558-c220d4da0270",
   "metadata": {},
   "source": [
    "# Q2. What is the Unit Vector technique in feature scaling, and how does it differ from Min-Max scaling? Provide an example to illustrate its application."
   ]
  },
  {
   "cell_type": "markdown",
   "id": "badfc0c5-abac-480d-ba73-ff18aac460d4",
   "metadata": {},
   "source": [
    "The Unit Vector technique is another method of feature scaling used in data preprocessing. In this technique, each data point is scaled to have a magnitude of 1 in the n-dimensional space.\n",
    "\n",
    "Unlike Min-Max scaling, which scales the data to a fixed range, the Unit Vector technique does not change the range of the data. Instead, it only changes the direction of the data points.\n",
    "\n",
    "Here's an example to illustrate its application:\n",
    "\n",
    "Suppose we have a dataset of two features, age and income, and we want to scale the data using the Unit Vector technique. Our dataset looks like this:\n",
    "\n",
    "* Age\tIncome\n",
    "* 25\t50,000\n",
    "* 30\t60,000\n",
    "*  5\t70,000\n",
    "\n",
    "To apply the Unit Vector technique, we first calculate the magnitude of each data point using the following formula:\n",
    "\n",
    "magnitude = sqrt(age^2 + income^2)\n",
    "\n",
    "Using this formula, we can calculate the magnitudes of each data point:\n",
    "\n",
    "* Age\tIncome\tMagnitude\n",
    "* 25\t50,000\t50,015.62\n",
    "* 30\t60,000\t60,008.33\n",
    "* 35\t70,000\t70,001.43\n",
    "\n",
    "\n",
    "Next, we divide each data point by its magnitude to scale it to have a magnitude of 1:\n",
    "\n",
    "* Age (scaled)\tIncome (scaled)\n",
    "* 0.0005\t       0.9999\n",
    "* 0.0005\t         1\n",
    "* 0.0005\t         1\n",
    "\n",
    "\n",
    "As you can see, the direction of the data points has changed, but the range of the data remains the same. This technique is particularly useful when the range of each feature varies widely."
   ]
  },
  {
   "cell_type": "markdown",
   "id": "fa4b7ddd-ecf1-4781-93dd-eb7ae8fdef9d",
   "metadata": {},
   "source": [
    "# Q3. What is PCA (Principle Component Analysis), and how is it used in dimensionality reduction? Provide an example to illustrate its application."
   ]
  },
  {
   "cell_type": "markdown",
   "id": "103a4ca9-ed34-4485-8d13-7677c022eba8",
   "metadata": {},
   "source": [
    "PCA (Principal Component Analysis) is a technique used for dimensionality reduction, which is the process of reducing the number of features in a dataset. It works by identifying the most important features that contribute to the variance in the data, and transforming the data into a new set of uncorrelated features, called principal components.\n",
    "\n",
    "PCA is particularly useful for large datasets with many features, as it allows us to reduce the number of features while still retaining most of the important information in the data. This can improve the performance of machine learning algorithms, as it reduces the risk of overfitting and can make the data easier to interpret.\n",
    "\n",
    "To illustrate the application of PCA, let's consider a dataset of iris flowers, which contains measurements of the length and width of the petals and sepals for three different species of iris: setosa, versicolor, and virginica."
   ]
  },
  {
   "cell_type": "code",
   "execution_count": 2,
   "id": "0d6aa3db-47cc-4cf6-9fe6-a3545aba5d3e",
   "metadata": {},
   "outputs": [
    {
     "name": "stdout",
     "output_type": "stream",
     "text": [
      "     sepal length (cm)  sepal width (cm)  petal length (cm)  petal width (cm)\n",
      "0                  5.1               3.5                1.4               0.2\n",
      "1                  4.9               3.0                1.4               0.2\n",
      "2                  4.7               3.2                1.3               0.2\n",
      "3                  4.6               3.1                1.5               0.2\n",
      "4                  5.0               3.6                1.4               0.2\n",
      "..                 ...               ...                ...               ...\n",
      "145                6.7               3.0                5.2               2.3\n",
      "146                6.3               2.5                5.0               1.9\n",
      "147                6.5               3.0                5.2               2.0\n",
      "148                6.2               3.4                5.4               2.3\n",
      "149                5.9               3.0                5.1               1.8\n",
      "\n",
      "[150 rows x 4 columns]\n",
      "          PC1       PC2\n",
      "0   -2.264703  0.480027\n",
      "1   -2.080961 -0.674134\n",
      "2   -2.364229 -0.341908\n",
      "3   -2.299384 -0.597395\n",
      "4   -2.389842  0.646835\n",
      "..        ...       ...\n",
      "145  1.870503  0.386966\n",
      "146  1.564580 -0.896687\n",
      "147  1.521170  0.269069\n",
      "148  1.372788  1.011254\n",
      "149  0.960656 -0.024332\n",
      "\n",
      "[150 rows x 2 columns]\n"
     ]
    }
   ],
   "source": [
    "import pandas as pd\n",
    "from sklearn.datasets import load_iris\n",
    "from sklearn.preprocessing import StandardScaler\n",
    "from sklearn.decomposition import PCA\n",
    "\n",
    "# load iris dataset\n",
    "iris = load_iris()\n",
    "\n",
    "# create pandas dataframe\n",
    "df = pd.DataFrame(data=iris.data, columns=iris.feature_names)\n",
    "\n",
    "# standardize the data\n",
    "scaler = StandardScaler()\n",
    "scaled_data = scaler.fit_transform(df)\n",
    "\n",
    "# apply PCA\n",
    "pca = PCA(n_components=2)\n",
    "principal_components = pca.fit_transform(scaled_data)\n",
    "\n",
    "# create new dataframe with principal components\n",
    "df_pca = pd.DataFrame(data=principal_components, columns=['PC1', 'PC2'])\n",
    "\n",
    "print(df)\n",
    "print(df_pca)"
   ]
  },
  {
   "cell_type": "markdown",
   "id": "efe13a49-154f-4c74-88c3-ba07f22bfa53",
   "metadata": {},
   "source": [
    "In this example, we first load the iris dataset and create a pandas dataframe. We then standardize the data using the StandardScaler function from scikit-learn, which scales the features so that they have a mean of 0 and a standard deviation of 1. This is important for PCA, as it requires that the features be on the same scale.\n",
    "\n",
    "Next, we apply PCA using the PCA function from scikit-learn, specifying that we want to reduce the dimensionality of the data to two principal components. The fit_transform method of the PCA object then calculates the principal components for each data point and returns a new array with the transformed data.\n",
    "\n",
    "Finally, we create a new dataframe with the principal components, which we can then use for visualization or further analysis.\n",
    "Next, we apply PCA using the PCA function from scikit-learn, specifying that we want to reduce the dimensionality of the data to two principal components. The fit_transform method of the PCA object then calculates the principal components for each data point and returns a new array with the transformed data.\n",
    "\n",
    "Finally, we create a new dataframe with the principal components, which we can then use for visualization or further analysis."
   ]
  },
  {
   "cell_type": "markdown",
   "id": "64372ed5-f1e0-4d86-aed7-22c752e5a8d3",
   "metadata": {},
   "source": [
    "PCA (Principal Component Analysis) can be used for feature extraction, which involves transforming the original set of variables into a smaller set of variables, while retaining as much information as possible. PCA is a popular technique for dimensionality reduction, which is used to reduce the number of variables in a dataset while maintaining as much information as possible. The technique involves finding a set of new variables, called principal components, which are linear combinations of the original variables. These principal components capture the maximum amount of variance in the original dataset.\n",
    "\n",
    "To illustrate this concept, let's consider a dataset that contains information about different types of flowers, including the length and width of their petals and sepals. This dataset has four variables: sepal length, sepal width, petal length, and petal width. We can use PCA to extract the most important features from this dataset.\n",
    "\n",
    "First, we standardize the data using z-score normalization. Then, we perform PCA to extract the principal components. The first two principal components are shown to capture most of the variation in the dataset. We can plot the transformed dataset using these two principal components, which give us a better visualization of the data:"
   ]
  },
  {
   "cell_type": "code",
   "execution_count": 5,
   "id": "150f9c67-fb2e-4aa8-8a7a-90957b75ea15",
   "metadata": {},
   "outputs": [
    {
     "data": {
      "image/png": "[encoded data removed]",
      "text/plain": [
       "<Figure size 640x480 with 1 Axes>"
      ]
     },
     "metadata": {},
     "output_type": "display_data"
    }
   ],
   "source": [
    "import pandas as pd\n",
    "import seaborn as sns\n",
    "from sklearn.preprocessing import StandardScaler\n",
    "from sklearn.preprocessing import LabelEncoder\n",
    "from sklearn.decomposition import PCA\n",
    "import matplotlib.pyplot as plt\n",
    "\n",
    "# Load the iris dataset\n",
    "df = sns.load_dataset('iris')\n",
    "\n",
    "le = LabelEncoder()\n",
    "df['species_num'] = le.fit_transform(df['species'])\n",
    "\n",
    "# Standardize the data\n",
    "scaler = StandardScaler()\n",
    "X = scaler.fit_transform(df[['sepal_length', 'sepal_width', 'petal_length', 'petal_width']])\n",
    "\n",
    "# Apply PCA\n",
    "pca = PCA(n_components=2)\n",
    "X_pca = pca.fit_transform(X)\n",
    "\n",
    "# Plot the transformed data\n",
    "plt.scatter(X_pca[:, 0], X_pca[:, 1], c=df['species_num'])\n",
    "plt.xlabel('Principal Component 1')\n",
    "plt.ylabel('Principal Component 2')\n",
    "plt.show()\n"
   ]
  },
  {
   "cell_type": "markdown",
   "id": "ecb737fa-a6d6-4017-b6ef-7d61a8c970f8",
   "metadata": {},
   "source": [
    "In this example, we used PCA to extract the two most important features from the original dataset. These two principal components capture the maximum amount of variance in the dataset, while reducing the number of variables from four to two. We can then use these two principal components as features for our model."
   ]
  },
  {
   "cell_type": "markdown",
   "id": "14643aa9-ff37-4067-810f-5ed7c6de92e9",
   "metadata": {},
   "source": [
    "# Q5. You are working on a project to build a recommendation system for a food delivery service. The dataset contains features such as price, rating, and delivery time. Explain how you would use Min-Max scaling to preprocess the data."
   ]
  },
  {
   "cell_type": "markdown",
   "id": "4a85b3bb-ad6f-4dbd-b8af-86623e27ae3e",
   "metadata": {},
   "source": [
    "In the context of a recommendation system for a food delivery service, Min-Max scaling is a data preprocessing technique used to scale the numerical features of the dataset to a common range of values. This technique is used to ensure that no feature dominates the others during the model training process, which could potentially bias the results.\n",
    "\n",
    "To apply Min-Max scaling to the dataset, we would follow these steps:\n",
    "\n",
    "* Identify the numerical features in the dataset that need to be scaled. In this case, the features are price, rating, and delivery time.\n",
    "\n",
    "* Compute the minimum and maximum values for each feature. This can be done by iterating through the dataset and finding the smallest and largest values for each feature.\n",
    "\n",
    "* Apply the Min-Max scaling formula to each feature to scale it to the range [0, 1]. The formula is:\n",
    "\n",
    "    Scaled_value = (original_value - minimum_value) / (maximum_value - minimum_value)\n",
    "\n",
    "   where the original_value is the value of the feature in the dataset, minimum_value is the minimum value of the feature, and        maximum_value is the maximum value of the feature.\n",
    "\n",
    "* Replace the original values of the features in the dataset with their scaled values.\n",
    "\n",
    "By applying Min-Max scaling to the dataset, we would be able to ensure that the features are on a common scale, which would make it easier to compare and analyze them. Additionally, this preprocessing technique could also improve the performance of the recommendation system by reducing the impact of feature scaling on the results."
   ]
  },
  {
   "cell_type": "markdown",
   "id": "ac7feb70-f739-4060-bcf0-96100bbfff41",
   "metadata": {},
   "source": [
    "# Q6. You are working on a project to build a model to predict stock prices. The dataset contains many features, such as company financial data and market trends. Explain how you would use PCA to reduce the dimensionality of the dataset."
   ]
  },
  {
   "cell_type": "markdown",
   "id": "a8566ddb-5cd7-4b8b-9aa4-cb74de1d1657",
   "metadata": {},
   "source": [
    "PCA (Principal Component Analysis) is a dimensionality reduction technique that can be used to reduce the number of features in a dataset while retaining most of the original information. In the case of a stock price prediction model, PCA can be used to reduce the dimensionality of the dataset by creating a smaller set of features that can explain most of the variance in the original dataset.\n",
    "\n",
    "Here are the steps to use PCA for dimensionality reduction in a stock price prediction model:\n",
    "\n",
    "* Preprocess the dataset: This involves standardizing or normalizing the data to ensure that all features are on the same scale.\n",
    "\n",
    "* Compute the covariance matrix: The covariance matrix describes how each feature in the dataset varies with respect to every other feature.\n",
    "\n",
    "* Compute the principal components: The principal components are linear combinations of the original features that capture the maximum amount of variance in the data. The first principal component captures the most variance, followed by the second principal component, and so on.\n",
    "\n",
    "* Choose the number of principal components: Decide how many principal components to keep based on the amount of variance they capture. A common rule of thumb is to keep enough principal components to explain 80-90% of the variance in the data.\n",
    "\n",
    "* Transform the data: Use the chosen principal components to transform the original data into a new dataset with reduced dimensionality. This new dataset will have fewer features, but will still capture most of the information in the original dataset.\n",
    "\n",
    "By using PCA to reduce the dimensionality of the dataset, we can simplify the model and reduce the risk of overfitting. Additionally, the smaller dataset can be easier to train and faster to run, which can be an advantage in applications where speed is important."
   ]
  },
  {
   "cell_type": "markdown",
   "id": "945fe1dd-cb95-48aa-adec-2a286ef88051",
   "metadata": {},
   "source": [
    "# Q7. For a dataset containing the following values: [1, 5, 10, 15, 20], perform Min-Max scaling to transform the values to a range of -1 to 1."
   ]
  },
  {
   "cell_type": "code",
   "execution_count": 23,
   "id": "10e773e0-071b-40ff-9386-76966ac33f3c",
   "metadata": {},
   "outputs": [
    {
     "name": "stdout",
     "output_type": "stream",
     "text": [
      "[[-1.        ]\n",
      " [-0.57894737]\n",
      " [-0.05263158]\n",
      " [ 0.47368421]\n",
      " [ 1.        ]]\n"
     ]
    }
   ],
   "source": [
    "from sklearn.preprocessing import MinMaxScaler\n",
    "import numpy as np\n",
    "\n",
    "data = np.array([1, 5, 10, 15, 20]).reshape(-1, 1)\n",
    "\n",
    "scaler = MinMaxScaler(feature_range=(-1, 1))\n",
    "scaled_data = scaler.fit_transform(data)\n",
    "\n",
    "print(scaled_data)\n"
   ]
  },
  {
   "cell_type": "markdown",
   "id": "36ad1bf8-65e1-439d-b67a-256a745dc40f",
   "metadata": {},
   "source": [
    "# Q8. For a dataset containing the following features: [height, weight, age, gender, blood pressure], perform Feature Extraction using PCA. How many principal components would you choose to retain, and why?"
   ]
  },
  {
   "cell_type": "markdown",
   "id": "a9301b16-4a25-4656-819d-608d368c7d98",
   "metadata": {},
   "source": [
    "Before performing PCA, we need to standardize the data to have zero mean and unit variance. Once the data is standardized, we can perform PCA to extract principal components.\n",
    "\n",
    "The number of principal components to retain depends on the amount of variance we want to preserve in the data. Typically, we choose the number of principal components that explain a significant proportion of the total variance in the data.\n",
    "\n",
    "To determine the number of principal components to retain, we can look at the scree plot or the cumulative explained variance plot. The scree plot shows the eigenvalues of the principal components in descending order, while the cumulative explained variance plot shows the proportion of total variance explained by each principal component.\n",
    "\n",
    "In this case, we have five features, so the maximum number of principal components we can have is five. We can perform PCA and look at the scree plot and cumulative explained variance plot to decide on the number of principal components to retain.\n",
    "\n",
    "If the scree plot shows a clear elbow point, we can choose the number of principal components corresponding to the elbow point. If there is no clear elbow point, we can look at the cumulative explained variance plot and choose the number of principal components that explain a significant proportion of the total variance.\n",
    "\n",
    "Without the data, it is difficult to say how many principal components to retain. However, a good rule of thumb is to retain principal components that explain at least 70-80% of the total variance."
   ]
  }
 ],
 "metadata": {
  "kernelspec": {
   "display_name": "Python 3 (ipykernel)",
   "language": "python",
   "name": "python3"
  },
  "language_info": {
   "codemirror_mode": {
    "name": "ipython",
    "version": 3
   },
   "file_extension": ".py",
   "mimetype": "text/x-python",
   "name": "python",
   "nbconvert_exporter": "python",
   "pygments_lexer": "ipython3",
   "version": "3.10.8"
  }
 },
 "nbformat": 4,
 "nbformat_minor": 5
}
